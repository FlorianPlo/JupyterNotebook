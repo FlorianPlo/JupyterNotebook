{
 "cells": [
  {
   "cell_type": "code",
   "id": "initial_id",
   "metadata": {
    "collapsed": true,
    "ExecuteTime": {
     "end_time": "2024-05-08T19:48:32.015216Z",
     "start_time": "2024-05-08T19:48:32.001214Z"
    }
   },
   "source": [
    "import pandas as pd\n",
    "\n",
    "# Example DataFrame\n",
    "data = {'datetime_name': ['2003-07-12 12:07:18.002811Peck-Rivera']}\n",
    "df = pd.DataFrame(data)\n",
    "\n",
    "# Splitting the column into two separate columns\n",
    "df[['datetime', 'name']] = df['datetime_name'].str.extract(r'(\\d+\\-\\d+\\-\\d+\\s\\d+:\\d+:\\d+\\.\\d+)([A-Z][a-z]+\\-?[A-Z]?[a-z]+)')\n",
    "\n",
    "print(df)\n",
    "\n"
   ],
   "outputs": [
    {
     "name": "stdout",
     "output_type": "stream",
     "text": [
      "                           datetime_name                    datetime  \\\n",
      "0  2003-07-12 12:07:18.002811Peck-Rivera  2003-07-12 12:07:18.002811   \n",
      "\n",
      "          name  \n",
      "0  Peck-Rivera  \n",
      "                           datetime_name                    datetime  \\\n",
      "0  2003-07-12 12:07:18.002811Peck-Rivera  2003-07-12 12:07:18.002811   \n",
      "\n",
      "          name  \n",
      "0  Peck-Rivera  \n"
     ]
    }
   ],
   "execution_count": 4
  },
  {
   "metadata": {
    "ExecuteTime": {
     "end_time": "2024-05-09T21:45:56.613608Z",
     "start_time": "2024-05-09T21:45:56.597679Z"
    }
   },
   "cell_type": "code",
   "source": [
    "l = [\"None\", \"NaN\", \"NA\", \"-inf\", None]\n",
    "\n",
    "string = [\"\", \"Hallo\", \"Willcolmene\", None]\n",
    "\n",
    "if set(string).intersection(l):\n",
    "    print(set(string).intersection(l))\n",
    "if any(string) in l: \n",
    "    print(\"HELP\")"
   ],
   "id": "25467ee22f9a7e78",
   "outputs": [
    {
     "name": "stdout",
     "output_type": "stream",
     "text": [
      "{None}\n"
     ]
    }
   ],
   "execution_count": 10
  },
  {
   "metadata": {
    "ExecuteTime": {
     "end_time": "2024-05-09T15:51:41.681270Z",
     "start_time": "2024-05-09T15:51:41.652764Z"
    }
   },
   "cell_type": "code",
   "source": [
    "string1 = \"1994-06-23 00:06:06.885525\"\n",
    "print(len(string1))"
   ],
   "id": "e2449bb62126b523",
   "outputs": [
    {
     "name": "stdout",
     "output_type": "stream",
     "text": [
      "26\n"
     ]
    }
   ],
   "execution_count": 1
  },
  {
   "metadata": {
    "ExecuteTime": {
     "end_time": "2024-05-09T21:57:30.831143Z",
     "start_time": "2024-05-09T21:57:29.881734Z"
    }
   },
   "cell_type": "code",
   "source": [
    "ll = ['93', 'Hannah Armstrong', nan, 'DarkSeaGreen', 'Translator', 'West Brad', \"(Decimal('6.991624'), Decimal('-12.892456'))\", '1998-04-20 15:34:53.902764', 'Hughes Inc']\n",
    "print(set(ll))"
   ],
   "id": "90d810ac076d1af4",
   "outputs": [
    {
     "ename": "NameError",
     "evalue": "name 'nan' is not defined",
     "output_type": "error",
     "traceback": [
      "\u001B[0;31m---------------------------------------------------------------------------\u001B[0m",
      "\u001B[0;31mNameError\u001B[0m                                 Traceback (most recent call last)",
      "Cell \u001B[0;32mIn[11], line 1\u001B[0m\n\u001B[0;32m----> 1\u001B[0m ll \u001B[38;5;241m=\u001B[39m [\u001B[38;5;124m'\u001B[39m\u001B[38;5;124m93\u001B[39m\u001B[38;5;124m'\u001B[39m, \u001B[38;5;124m'\u001B[39m\u001B[38;5;124mHannah Armstrong\u001B[39m\u001B[38;5;124m'\u001B[39m, \u001B[43mnan\u001B[49m, \u001B[38;5;124m'\u001B[39m\u001B[38;5;124mDarkSeaGreen\u001B[39m\u001B[38;5;124m'\u001B[39m, \u001B[38;5;124m'\u001B[39m\u001B[38;5;124mTranslator\u001B[39m\u001B[38;5;124m'\u001B[39m, \u001B[38;5;124m'\u001B[39m\u001B[38;5;124mWest Brad\u001B[39m\u001B[38;5;124m'\u001B[39m, \u001B[38;5;124m\"\u001B[39m\u001B[38;5;124m(Decimal(\u001B[39m\u001B[38;5;124m'\u001B[39m\u001B[38;5;124m6.991624\u001B[39m\u001B[38;5;124m'\u001B[39m\u001B[38;5;124m), Decimal(\u001B[39m\u001B[38;5;124m'\u001B[39m\u001B[38;5;124m-12.892456\u001B[39m\u001B[38;5;124m'\u001B[39m\u001B[38;5;124m))\u001B[39m\u001B[38;5;124m\"\u001B[39m, \u001B[38;5;124m'\u001B[39m\u001B[38;5;124m1998-04-20 15:34:53.902764\u001B[39m\u001B[38;5;124m'\u001B[39m, \u001B[38;5;124m'\u001B[39m\u001B[38;5;124mHughes Inc\u001B[39m\u001B[38;5;124m'\u001B[39m]\n\u001B[1;32m      2\u001B[0m \u001B[38;5;28mprint\u001B[39m(\u001B[38;5;28mset\u001B[39m(ll))\n",
      "\u001B[0;31mNameError\u001B[0m: name 'nan' is not defined"
     ]
    }
   ],
   "execution_count": 11
  },
  {
   "metadata": {},
   "cell_type": "code",
   "outputs": [],
   "execution_count": null,
   "source": "",
   "id": "867b59e887750700"
  }
 ],
 "metadata": {
  "kernelspec": {
   "display_name": "Python 3",
   "language": "python",
   "name": "python3"
  },
  "language_info": {
   "codemirror_mode": {
    "name": "ipython",
    "version": 2
   },
   "file_extension": ".py",
   "mimetype": "text/x-python",
   "name": "python",
   "nbconvert_exporter": "python",
   "pygments_lexer": "ipython2",
   "version": "2.7.6"
  }
 },
 "nbformat": 4,
 "nbformat_minor": 5
}
