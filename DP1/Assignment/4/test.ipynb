{
 "cells": [
  {
   "cell_type": "code",
   "id": "initial_id",
   "metadata": {
    "collapsed": true,
    "ExecuteTime": {
     "end_time": "2024-05-08T19:48:32.015216Z",
     "start_time": "2024-05-08T19:48:32.001214Z"
    }
   },
   "source": [
    "import pandas as pd\n",
    "\n",
    "# Example DataFrame\n",
    "data = {'datetime_name': ['2003-07-12 12:07:18.002811Peck-Rivera']}\n",
    "df = pd.DataFrame(data)\n",
    "\n",
    "# Splitting the column into two separate columns\n",
    "df[['datetime', 'name']] = df['datetime_name'].str.extract(r'(\\d+\\-\\d+\\-\\d+\\s\\d+:\\d+:\\d+\\.\\d+)([A-Z][a-z]+\\-?[A-Z]?[a-z]+)')\n",
    "\n",
    "print(df)\n",
    "\n"
   ],
   "outputs": [
    {
     "name": "stdout",
     "output_type": "stream",
     "text": [
      "                           datetime_name                    datetime  \\\n",
      "0  2003-07-12 12:07:18.002811Peck-Rivera  2003-07-12 12:07:18.002811   \n",
      "\n",
      "          name  \n",
      "0  Peck-Rivera  \n",
      "                           datetime_name                    datetime  \\\n",
      "0  2003-07-12 12:07:18.002811Peck-Rivera  2003-07-12 12:07:18.002811   \n",
      "\n",
      "          name  \n",
      "0  Peck-Rivera  \n"
     ]
    }
   ],
   "execution_count": 4
  },
  {
   "metadata": {
    "ExecuteTime": {
     "end_time": "2024-05-09T15:51:41.681270Z",
     "start_time": "2024-05-09T15:51:41.652764Z"
    }
   },
   "cell_type": "code",
   "source": [
    "string1 = \"1994-06-23 00:06:06.885525\"\n",
    "print(len(string1))"
   ],
   "id": "e2449bb62126b523",
   "outputs": [
    {
     "name": "stdout",
     "output_type": "stream",
     "text": [
      "26\n"
     ]
    }
   ],
   "execution_count": 1
  }
 ],
 "metadata": {
  "kernelspec": {
   "display_name": "Python 3",
   "language": "python",
   "name": "python3"
  },
  "language_info": {
   "codemirror_mode": {
    "name": "ipython",
    "version": 2
   },
   "file_extension": ".py",
   "mimetype": "text/x-python",
   "name": "python",
   "nbconvert_exporter": "python",
   "pygments_lexer": "ipython2",
   "version": "2.7.6"
  }
 },
 "nbformat": 4,
 "nbformat_minor": 5
}
